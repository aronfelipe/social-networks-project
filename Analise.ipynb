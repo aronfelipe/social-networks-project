{
 "cells": [
  {
   "cell_type": "code",
   "execution_count": 77,
   "metadata": {},
   "outputs": [],
   "source": [
    "import seaborn as sns\n",
    "import networkx as nx\n",
    "import pandas as pd\n",
    "import freeman as fm"
   ]
  },
  {
   "cell_type": "markdown",
   "metadata": {},
   "source": [
    "# Funções:"
   ]
  },
  {
   "cell_type": "code",
   "execution_count": 78,
   "metadata": {},
   "outputs": [],
   "source": [
    "def load(inDegree):\n",
    "    g = fm.load('./NetworkBuilder/network.gml')\n",
    "\n",
    "    removed = []\n",
    "    for n, m in g.edges:\n",
    "        if g.in_degree(n) <= inDegree:\n",
    "            removed.append((n, m))\n",
    "    for n, m in removed:\n",
    "        g.remove_edge(n, m)\n",
    "\n",
    "    # Remover todos os nós que ficaram isolados depois da\n",
    "    # remoção das arestas, para melhorar a visualização.\n",
    "    removed = []\n",
    "    for n in g.nodes:\n",
    "        if not g.degree(n):\n",
    "            removed.append(n)\n",
    "    for n in removed:\n",
    "        g.remove_node(n)\n",
    "\n",
    "    return g"
   ]
  },
  {
   "cell_type": "code",
   "execution_count": 79,
   "metadata": {},
   "outputs": [],
   "source": [
    "def draw(g):\n",
    "    # Deixar os nós menores e fazer os nomes deles\n",
    "    # aparecer apenas quando o mouse passa por cima.\n",
    "    g.set_all_nodes(size=10, labpos='hover')\n",
    "\n",
    "    # Deixar as arestas semi-transparentes para\n",
    "    # a visualização ficar um pouco mais leve.\n",
    "    g.set_all_edges(color=(0, 0, 0, 0.25))\n",
    "\n",
    "    # Usar um algoritmo especial para posicionar\n",
    "    # os nós de acordo com grupos.\n",
    "    g.move('kamada_kawai')\n",
    "\n",
    "    g.draw()"
   ]
  },
  {
   "cell_type": "code",
   "execution_count": 80,
   "metadata": {},
   "outputs": [],
   "source": [
    "def getCentralization(centrality, c_type):\n",
    "\n",
    "    c_denominator = float(1)\n",
    "\n",
    "    n_val = float(len(centrality))\n",
    "\n",
    "    print(str(len(centrality)) + \",\" +  c_type + \"\\n\")\n",
    "\n",
    "    if (c_type==\"degree\"):\n",
    "        c_denominator = (n_val-1)*(n_val-2)\n",
    "\n",
    "    if (c_type==\"close\"):\n",
    "        c_top = (n_val-1)*(n_val-2)\n",
    "        c_bottom = (2*n_val)-3\t\n",
    "        c_denominator = float(c_top/c_bottom)\n",
    "\n",
    "    if (c_type==\"between\"):\n",
    "        c_denominator = (n_val*n_val*(n_val-2))\n",
    "\n",
    "    if (c_type==\"eigen\"):\n",
    "\n",
    "        '''\n",
    "        M = nx.to_scipy_sparse_matrix(G, nodelist=G.nodes(),weight='weight',dtype=float)\n",
    "        eigenvalue, eigenvector = linalg.eigs(M.T, k=1, which='LR') \n",
    "        largest = eigenvector.flatten().real\n",
    "        norm = sp.sign(largest.sum())*sp.linalg.norm(largest)\n",
    "        centrality = dict(zip(G,map(float,largest)))\n",
    "        '''\n",
    "\n",
    "        c_denominator = sqrt(2)/2 * (n_val - 2)\n",
    "        \n",
    "        \n",
    "        \n",
    "\n",
    "    #start calculations\t\n",
    "\n",
    "    c_node_max = max(centrality.values())\n",
    "\n",
    "\n",
    "    c_sorted = sorted(centrality.values(),reverse=True)\n",
    "    \n",
    "\n",
    "\n",
    "    print (\"max node\" + str(c_node_max) + \"\\n\")\n",
    "\n",
    "    c_numerator = 0\n",
    "\n",
    "    for value in c_sorted:\n",
    "\n",
    "        if c_type == \"degree\":\n",
    "            #remove normalisation for each value\n",
    "            c_numerator += (c_node_max*(n_val-1) - value*(n_val-1))\n",
    "        else:\n",
    "            c_numerator += (c_node_max - value)\n",
    "\n",
    "    print ('numerator:' + str(c_numerator)  + \"\\n\")\t\n",
    "    print ('denominator:' + str(c_denominator)  + \"\\n\")\t\n",
    "\n",
    "    network_centrality = float(c_numerator/c_denominator)\n",
    "\n",
    "    if c_type == \"between\":\n",
    "        network_centrality = network_centrality * 2\n",
    "\n",
    "    return network_centrality"
   ]
  },
  {
   "cell_type": "markdown",
   "metadata": {},
   "source": [
    "# Início da análise:"
   ]
  },
  {
   "cell_type": "code",
   "execution_count": 81,
   "metadata": {},
   "outputs": [],
   "source": [
    "g = fm.load('./NetworkBuilder/network.gml')"
   ]
  },
  {
   "cell_type": "code",
   "execution_count": 82,
   "metadata": {},
   "outputs": [],
   "source": [
    "data = pd.DataFrame({\n",
    "    'wallet': list(g.nodes),\n",
    "    'indegree': [g.in_degree(n) for n in g.nodes],\n",
    "    'outdegree': [g.out_degree(n) for n in g.nodes],\n",
    "})"
   ]
  },
  {
   "cell_type": "code",
   "execution_count": 83,
   "metadata": {},
   "outputs": [
    {
     "data": {
      "text/html": [
       "<div>\n",
       "<style scoped>\n",
       "    .dataframe tbody tr th:only-of-type {\n",
       "        vertical-align: middle;\n",
       "    }\n",
       "\n",
       "    .dataframe tbody tr th {\n",
       "        vertical-align: top;\n",
       "    }\n",
       "\n",
       "    .dataframe thead th {\n",
       "        text-align: right;\n",
       "    }\n",
       "</style>\n",
       "<table border=\"1\" class=\"dataframe\">\n",
       "  <thead>\n",
       "    <tr style=\"text-align: right;\">\n",
       "      <th></th>\n",
       "      <th>wallet</th>\n",
       "      <th>indegree</th>\n",
       "      <th>outdegree</th>\n",
       "    </tr>\n",
       "  </thead>\n",
       "  <tbody>\n",
       "    <tr>\n",
       "      <th>0</th>\n",
       "      <td>0</td>\n",
       "      <td>0</td>\n",
       "      <td>2</td>\n",
       "    </tr>\n",
       "    <tr>\n",
       "      <th>1</th>\n",
       "      <td>1</td>\n",
       "      <td>0</td>\n",
       "      <td>1</td>\n",
       "    </tr>\n",
       "    <tr>\n",
       "      <th>2</th>\n",
       "      <td>2</td>\n",
       "      <td>0</td>\n",
       "      <td>2</td>\n",
       "    </tr>\n",
       "    <tr>\n",
       "      <th>3</th>\n",
       "      <td>3</td>\n",
       "      <td>1</td>\n",
       "      <td>0</td>\n",
       "    </tr>\n",
       "    <tr>\n",
       "      <th>4</th>\n",
       "      <td>4</td>\n",
       "      <td>2</td>\n",
       "      <td>0</td>\n",
       "    </tr>\n",
       "    <tr>\n",
       "      <th>...</th>\n",
       "      <td>...</td>\n",
       "      <td>...</td>\n",
       "      <td>...</td>\n",
       "    </tr>\n",
       "    <tr>\n",
       "      <th>48903</th>\n",
       "      <td>48903</td>\n",
       "      <td>0</td>\n",
       "      <td>2</td>\n",
       "    </tr>\n",
       "    <tr>\n",
       "      <th>48904</th>\n",
       "      <td>48904</td>\n",
       "      <td>1</td>\n",
       "      <td>0</td>\n",
       "    </tr>\n",
       "    <tr>\n",
       "      <th>48905</th>\n",
       "      <td>48905</td>\n",
       "      <td>0</td>\n",
       "      <td>2</td>\n",
       "    </tr>\n",
       "    <tr>\n",
       "      <th>48906</th>\n",
       "      <td>48906</td>\n",
       "      <td>1</td>\n",
       "      <td>2</td>\n",
       "    </tr>\n",
       "    <tr>\n",
       "      <th>48907</th>\n",
       "      <td>48907</td>\n",
       "      <td>1</td>\n",
       "      <td>0</td>\n",
       "    </tr>\n",
       "  </tbody>\n",
       "</table>\n",
       "<p>48908 rows × 3 columns</p>\n",
       "</div>"
      ],
      "text/plain": [
       "       wallet  indegree  outdegree\n",
       "0           0         0          2\n",
       "1           1         0          1\n",
       "2           2         0          2\n",
       "3           3         1          0\n",
       "4           4         2          0\n",
       "...       ...       ...        ...\n",
       "48903   48903         0          2\n",
       "48904   48904         1          0\n",
       "48905   48905         0          2\n",
       "48906   48906         1          2\n",
       "48907   48907         1          0\n",
       "\n",
       "[48908 rows x 3 columns]"
      ]
     },
     "execution_count": 83,
     "metadata": {},
     "output_type": "execute_result"
    }
   ],
   "source": [
    "data"
   ]
  },
  {
   "cell_type": "code",
   "execution_count": 84,
   "metadata": {},
   "outputs": [
    {
     "data": {
      "image/png": "[encoded data removed]",
      "text/plain": [
       "<Figure size 432x288 with 1 Axes>"
      ]
     },
     "metadata": {
      "needs_background": "light"
     },
     "output_type": "display_data"
    }
   ],
   "source": [
    "sns.distplot([g.in_degree(n) for n in g.nodes]);"
   ]
  },
  {
   "cell_type": "code",
   "execution_count": 85,
   "metadata": {},
   "outputs": [
    {
     "data": {
      "image/png": "[encoded data removed]",
      "text/plain": [
       "<Figure size 432x288 with 1 Axes>"
      ]
     },
     "metadata": {
      "needs_background": "light"
     },
     "output_type": "display_data"
    }
   ],
   "source": [
    "sns.distplot([g.out_degree(n) for n in g.nodes]);"
   ]
  },
  {
   "cell_type": "markdown",
   "metadata": {},
   "source": [
    "Realizamos um filtro dos nós que possuem um in degree de 0, para conseguirmos visualizar a rede"
   ]
  },
  {
   "cell_type": "code",
   "execution_count": 86,
   "metadata": {},
   "outputs": [],
   "source": [
    "g = load(0)"
   ]
  },
  {
   "cell_type": "code",
   "execution_count": null,
   "metadata": {},
   "outputs": [],
   "source": []
  },
  {
   "cell_type": "code",
   "execution_count": 88,
   "metadata": {},
   "outputs": [
    {
     "data": {
      "image/png": "[encoded data removed]",
      "text/plain": [
       "<Figure size 432x288 with 1 Axes>"
      ]
     },
     "metadata": {
      "needs_background": "light"
     },
     "output_type": "display_data"
    }
   ],
   "source": [
    "sns.distplot([g.in_degree(n) for n in g.nodes]);"
   ]
  },
  {
   "cell_type": "code",
   "execution_count": 89,
   "metadata": {},
   "outputs": [
    {
     "data": {
      "image/png": "[encoded data removed]",
      "text/plain": [
       "<Figure size 432x288 with 1 Axes>"
      ]
     },
     "metadata": {
      "needs_background": "light"
     },
     "output_type": "display_data"
    }
   ],
   "source": [
    "sns.distplot([g.out_degree(n) for n in g.nodes]);"
   ]
  },
  {
   "cell_type": "code",
   "execution_count": 90,
   "metadata": {},
   "outputs": [],
   "source": [
    "BETWEENNESS_CENTRALITY = nx.betweenness_centrality(g)"
   ]
  },
  {
   "cell_type": "code",
   "execution_count": 91,
   "metadata": {},
   "outputs": [
    {
     "name": "stdout",
     "output_type": "stream",
     "text": [
      "8073,between\n",
      "\n",
      "max node0.0005214499316583164\n",
      "\n",
      "numerator:4.207286125403556\n",
      "\n",
      "denominator:526013938359.0\n",
      "\n"
     ]
    },
    {
     "data": {
      "text/plain": [
       "1.599686175058015e-11"
      ]
     },
     "execution_count": 91,
     "metadata": {},
     "output_type": "execute_result"
    }
   ],
   "source": [
    "getCentralization(BETWEENNESS_CENTRALITY, \"between\")"
   ]
  },
  {
   "cell_type": "code",
   "execution_count": 92,
   "metadata": {},
   "outputs": [
    {
     "ename": "KeyboardInterrupt",
     "evalue": "",
     "output_type": "error",
     "traceback": [
      "\u001b[0;31m---------------------------------------------------------------------------\u001b[0m",
      "\u001b[0;31mKeyboardInterrupt\u001b[0m                         Traceback (most recent call last)",
      "\u001b[0;32m<ipython-input-92-c8d76ae79ef6>\u001b[0m in \u001b[0;36m<module>\u001b[0;34m\u001b[0m\n\u001b[1;32m      1\u001b[0m \u001b[0mg\u001b[0m \u001b[0;34m=\u001b[0m \u001b[0mfm\u001b[0m\u001b[0;34m.\u001b[0m\u001b[0mload\u001b[0m\u001b[0;34m(\u001b[0m\u001b[0;34m'./NetworkBuilder/network.gml'\u001b[0m\u001b[0;34m)\u001b[0m\u001b[0;34m\u001b[0m\u001b[0;34m\u001b[0m\u001b[0m\n\u001b[0;32m----> 2\u001b[0;31m \u001b[0mBETWEENNESS_CENTRALITY\u001b[0m \u001b[0;34m=\u001b[0m \u001b[0mnx\u001b[0m\u001b[0;34m.\u001b[0m\u001b[0mbetweenness_centrality\u001b[0m\u001b[0;34m(\u001b[0m\u001b[0mg\u001b[0m\u001b[0;34m)\u001b[0m\u001b[0;34m\u001b[0m\u001b[0;34m\u001b[0m\u001b[0m\n\u001b[0m\u001b[1;32m      3\u001b[0m \u001b[0mgetCentralization\u001b[0m\u001b[0;34m(\u001b[0m\u001b[0mBETWEENNESS_CENTRALITY\u001b[0m\u001b[0;34m,\u001b[0m \u001b[0;34m\"between\"\u001b[0m\u001b[0;34m)\u001b[0m\u001b[0;34m\u001b[0m\u001b[0;34m\u001b[0m\u001b[0m\n",
      "\u001b[0;32m</Users/luvi/opt/anaconda3/lib/python3.7/site-packages/decorator.py:decorator-gen-229>\u001b[0m in \u001b[0;36mbetweenness_centrality\u001b[0;34m(G, k, normalized, weight, endpoints, seed)\u001b[0m\n",
      "\u001b[0;32m~/opt/anaconda3/lib/python3.7/site-packages/networkx/utils/decorators.py\u001b[0m in \u001b[0;36m_random_state\u001b[0;34m(func, *args, **kwargs)\u001b[0m\n\u001b[1;32m    462\u001b[0m         \u001b[0mnew_args\u001b[0m \u001b[0;34m=\u001b[0m \u001b[0mlist\u001b[0m\u001b[0;34m(\u001b[0m\u001b[0margs\u001b[0m\u001b[0;34m)\u001b[0m\u001b[0;34m\u001b[0m\u001b[0;34m\u001b[0m\u001b[0m\n\u001b[1;32m    463\u001b[0m         \u001b[0mnew_args\u001b[0m\u001b[0;34m[\u001b[0m\u001b[0mrandom_state_index\u001b[0m\u001b[0;34m]\u001b[0m \u001b[0;34m=\u001b[0m \u001b[0mrandom_state\u001b[0m\u001b[0;34m\u001b[0m\u001b[0;34m\u001b[0m\u001b[0m\n\u001b[0;32m--> 464\u001b[0;31m         \u001b[0;32mreturn\u001b[0m \u001b[0mfunc\u001b[0m\u001b[0;34m(\u001b[0m\u001b[0;34m*\u001b[0m\u001b[0mnew_args\u001b[0m\u001b[0;34m,\u001b[0m \u001b[0;34m**\u001b[0m\u001b[0mkwargs\u001b[0m\u001b[0;34m)\u001b[0m\u001b[0;34m\u001b[0m\u001b[0;34m\u001b[0m\u001b[0m\n\u001b[0m\u001b[1;32m    465\u001b[0m     \u001b[0;32mreturn\u001b[0m \u001b[0m_random_state\u001b[0m\u001b[0;34m\u001b[0m\u001b[0;34m\u001b[0m\u001b[0m\n",
      "\u001b[0;32m~/opt/anaconda3/lib/python3.7/site-packages/networkx/algorithms/centrality/betweenness.py\u001b[0m in \u001b[0;36mbetweenness_centrality\u001b[0;34m(G, k, normalized, weight, endpoints, seed)\u001b[0m\n\u001b[1;32m    117\u001b[0m         \u001b[0;31m# single source shortest paths\u001b[0m\u001b[0;34m\u001b[0m\u001b[0;34m\u001b[0m\u001b[0;34m\u001b[0m\u001b[0m\n\u001b[1;32m    118\u001b[0m         \u001b[0;32mif\u001b[0m \u001b[0mweight\u001b[0m \u001b[0;32mis\u001b[0m \u001b[0;32mNone\u001b[0m\u001b[0;34m:\u001b[0m  \u001b[0;31m# use BFS\u001b[0m\u001b[0;34m\u001b[0m\u001b[0;34m\u001b[0m\u001b[0m\n\u001b[0;32m--> 119\u001b[0;31m             \u001b[0mS\u001b[0m\u001b[0;34m,\u001b[0m \u001b[0mP\u001b[0m\u001b[0;34m,\u001b[0m \u001b[0msigma\u001b[0m \u001b[0;34m=\u001b[0m \u001b[0m_single_source_shortest_path_basic\u001b[0m\u001b[0;34m(\u001b[0m\u001b[0mG\u001b[0m\u001b[0;34m,\u001b[0m \u001b[0ms\u001b[0m\u001b[0;34m)\u001b[0m\u001b[0;34m\u001b[0m\u001b[0;34m\u001b[0m\u001b[0m\n\u001b[0m\u001b[1;32m    120\u001b[0m         \u001b[0;32melse\u001b[0m\u001b[0;34m:\u001b[0m  \u001b[0;31m# use Dijkstra's algorithm\u001b[0m\u001b[0;34m\u001b[0m\u001b[0;34m\u001b[0m\u001b[0m\n\u001b[1;32m    121\u001b[0m             \u001b[0mS\u001b[0m\u001b[0;34m,\u001b[0m \u001b[0mP\u001b[0m\u001b[0;34m,\u001b[0m \u001b[0msigma\u001b[0m \u001b[0;34m=\u001b[0m \u001b[0m_single_source_dijkstra_path_basic\u001b[0m\u001b[0;34m(\u001b[0m\u001b[0mG\u001b[0m\u001b[0;34m,\u001b[0m \u001b[0ms\u001b[0m\u001b[0;34m,\u001b[0m \u001b[0mweight\u001b[0m\u001b[0;34m)\u001b[0m\u001b[0;34m\u001b[0m\u001b[0;34m\u001b[0m\u001b[0m\n",
      "\u001b[0;32m~/opt/anaconda3/lib/python3.7/site-packages/networkx/algorithms/centrality/betweenness.py\u001b[0m in \u001b[0;36m_single_source_shortest_path_basic\u001b[0;34m(G, s)\u001b[0m\n\u001b[1;32m    234\u001b[0m     \u001b[0mP\u001b[0m \u001b[0;34m=\u001b[0m \u001b[0;34m{\u001b[0m\u001b[0;34m}\u001b[0m\u001b[0;34m\u001b[0m\u001b[0;34m\u001b[0m\u001b[0m\n\u001b[1;32m    235\u001b[0m     \u001b[0;32mfor\u001b[0m \u001b[0mv\u001b[0m \u001b[0;32min\u001b[0m \u001b[0mG\u001b[0m\u001b[0;34m:\u001b[0m\u001b[0;34m\u001b[0m\u001b[0;34m\u001b[0m\u001b[0m\n\u001b[0;32m--> 236\u001b[0;31m         \u001b[0mP\u001b[0m\u001b[0;34m[\u001b[0m\u001b[0mv\u001b[0m\u001b[0;34m]\u001b[0m \u001b[0;34m=\u001b[0m \u001b[0;34m[\u001b[0m\u001b[0;34m]\u001b[0m\u001b[0;34m\u001b[0m\u001b[0;34m\u001b[0m\u001b[0m\n\u001b[0m\u001b[1;32m    237\u001b[0m     \u001b[0msigma\u001b[0m \u001b[0;34m=\u001b[0m \u001b[0mdict\u001b[0m\u001b[0;34m.\u001b[0m\u001b[0mfromkeys\u001b[0m\u001b[0;34m(\u001b[0m\u001b[0mG\u001b[0m\u001b[0;34m,\u001b[0m \u001b[0;36m0.0\u001b[0m\u001b[0;34m)\u001b[0m    \u001b[0;31m# sigma[v]=0 for v in G\u001b[0m\u001b[0;34m\u001b[0m\u001b[0;34m\u001b[0m\u001b[0m\n\u001b[1;32m    238\u001b[0m     \u001b[0mD\u001b[0m \u001b[0;34m=\u001b[0m \u001b[0;34m{\u001b[0m\u001b[0;34m}\u001b[0m\u001b[0;34m\u001b[0m\u001b[0;34m\u001b[0m\u001b[0m\n",
      "\u001b[0;31mKeyboardInterrupt\u001b[0m: "
     ]
    }
   ],
   "source": [
    "g = fm.load('./NetworkBuilder/network.gml')\n",
    "BETWEENNESS_CENTRALITY = nx.betweenness_centrality(g)\n",
    "getCentralization(BETWEENNESS_CENTRALITY, \"between\")"
   ]
  },
  {
   "cell_type": "markdown",
   "metadata": {},
   "source": [
    "# Regressão"
   ]
  },
  {
   "cell_type": "code",
   "execution_count": 95,
   "metadata": {},
   "outputs": [
    {
     "name": "stdout",
     "output_type": "stream",
     "text": [
      "1\n",
      "6569,between\n",
      "\n",
      "max node5.865706934999807e-06\n",
      "\n",
      "numerator:0.03818563622378595\n",
      "\n",
      "denominator:283377614487.0\n",
      "\n",
      "2\n",
      "6616,between\n",
      "\n",
      "max node0.0005048499929488309\n",
      "\n",
      "numerator:3.3394797814294175\n",
      "\n",
      "denominator:289504409984.0\n",
      "\n",
      "3\n",
      "2929,between\n",
      "\n",
      "max node2.3919938914310143e-05\n",
      "\n",
      "numerator:0.07001097750172323\n",
      "\n",
      "denominator:25110853007.0\n",
      "\n",
      "4\n",
      "206,between\n",
      "\n",
      "max node0.0\n",
      "\n",
      "numerator:0.0\n",
      "\n",
      "denominator:8656944.0\n",
      "\n",
      "5\n",
      "5390,between\n",
      "\n",
      "max node7.990099990590968e-06\n",
      "\n",
      "numerator:0.043027790532092304\n",
      "\n",
      "denominator:156532714800.0\n",
      "\n",
      "6\n",
      "6303,between\n",
      "\n",
      "max node3.2234585584864573e-06\n",
      "\n",
      "numerator:0.020224104912293844\n",
      "\n",
      "denominator:250324924509.0\n",
      "\n",
      "7\n",
      "6001,between\n",
      "\n",
      "max node0.0003651719731066289\n",
      "\n",
      "numerator:2.190876979496543\n",
      "\n",
      "denominator:216035993999.0\n",
      "\n",
      "8\n",
      "6439,between\n",
      "\n",
      "max node7.963050288399964e-07\n",
      "\n",
      "numerator:0.0051152945920795515\n",
      "\n",
      "denominator:266882661077.0\n",
      "\n",
      "9\n",
      "5777,between\n",
      "\n",
      "max node4.0112242328308805e-05\n",
      "\n",
      "numerator:0.23167251262125294\n",
      "\n",
      "denominator:192733284975.0\n",
      "\n",
      "10\n",
      "5267,between\n",
      "\n",
      "max node5.6410184274470896e-05\n",
      "\n",
      "numerator:0.29701549007791056\n",
      "\n",
      "denominator:146057886585.0\n",
      "\n",
      "[2.6950354771610035e-13, 2.3070320632518032e-11, 5.576152867623151e-12, 0.0, 5.497609951640895e-13, 1.6158283041101424e-13, 2.0282518102114816e-11, 3.833365997953464e-14, 2.404073719298707e-12, 4.0670928085086195e-12]\n"
     ]
    }
   ],
   "source": [
    "centralidades = []\n",
    "\n",
    "for e in range(1, 11):\n",
    "    print(e)\n",
    "    g = fm.load('./NetworkBuilder/network'+str(e)+'.gml')\n",
    "    BETWEENNESS_CENTRALITY = nx.betweenness_centrality(g)\n",
    "    centralidades.append(getCentralization(BETWEENNESS_CENTRALITY, \"between\"))\n",
    "    \n",
    "print(centralidades)"
   ]
  },
  {
   "cell_type": "code",
   "execution_count": 96,
   "metadata": {},
   "outputs": [
    {
     "data": {
      "text/plain": [
       "[2.6950354771610035e-13,\n",
       " 2.3070320632518032e-11,\n",
       " 5.576152867623151e-12,\n",
       " 0.0,\n",
       " 5.497609951640895e-13,\n",
       " 1.6158283041101424e-13,\n",
       " 2.0282518102114816e-11,\n",
       " 3.833365997953464e-14,\n",
       " 2.404073719298707e-12,\n",
       " 4.0670928085086195e-12]"
      ]
     },
     "execution_count": 96,
     "metadata": {},
     "output_type": "execute_result"
    }
   ],
   "source": [
    "centralidades"
   ]
  },
  {
   "cell_type": "code",
   "execution_count": 97,
   "metadata": {},
   "outputs": [],
   "source": [
    "volatilidade = []\n",
    "for e in range(1, 11):\n",
    "    volatilidade.append(0.001813281291)\n",
    "    \n"
   ]
  },
  {
   "cell_type": "code",
   "execution_count": 98,
   "metadata": {},
   "outputs": [
    {
     "name": "stderr",
     "output_type": "stream",
     "text": [
      "/Users/luvi/opt/anaconda3/lib/python3.7/site-packages/scipy/stats/stats.py:1450: UserWarning:\n",
      "\n",
      "kurtosistest only valid for n>=20 ... continuing anyway, n=10\n",
      "\n"
     ]
    },
    {
     "data": {
      "text/html": [
       "<table class=\"simpletable\">\n",
       "<caption>OLS Regression Results</caption>\n",
       "<tr>\n",
       "  <th>Dep. Variable:</th>            <td>y</td>        <th>  R-squared (uncentered):</th>      <td>   0.319</td>\n",
       "</tr>\n",
       "<tr>\n",
       "  <th>Model:</th>                   <td>OLS</td>       <th>  Adj. R-squared (uncentered):</th> <td>   0.243</td>\n",
       "</tr>\n",
       "<tr>\n",
       "  <th>Method:</th>             <td>Least Squares</td>  <th>  F-statistic:       </th>          <td>   4.218</td>\n",
       "</tr>\n",
       "<tr>\n",
       "  <th>Date:</th>             <td>Mon, 26 Oct 2020</td> <th>  Prob (F-statistic):</th>           <td>0.0702</td> \n",
       "</tr>\n",
       "<tr>\n",
       "  <th>Time:</th>                 <td>23:08:45</td>     <th>  Log-Likelihood:    </th>          <td>  50.859</td>\n",
       "</tr>\n",
       "<tr>\n",
       "  <th>No. Observations:</th>      <td>    10</td>      <th>  AIC:               </th>          <td>  -99.72</td>\n",
       "</tr>\n",
       "<tr>\n",
       "  <th>Df Residuals:</th>          <td>     9</td>      <th>  BIC:               </th>          <td>  -99.41</td>\n",
       "</tr>\n",
       "<tr>\n",
       "  <th>Df Model:</th>              <td>     1</td>      <th>                     </th>              <td> </td>   \n",
       "</tr>\n",
       "<tr>\n",
       "  <th>Covariance Type:</th>      <td>nonrobust</td>    <th>                     </th>              <td> </td>   \n",
       "</tr>\n",
       "</table>\n",
       "<table class=\"simpletable\">\n",
       "<tr>\n",
       "   <td></td>     <th>coef</th>     <th>std err</th>      <th>t</th>      <th>P>|t|</th>  <th>[0.025</th>    <th>0.975]</th>  \n",
       "</tr>\n",
       "<tr>\n",
       "  <th>x1</th> <td> 1.026e+08</td> <td> 4.99e+07</td> <td>    2.054</td> <td> 0.070</td> <td>-1.04e+07</td> <td> 2.16e+08</td>\n",
       "</tr>\n",
       "</table>\n",
       "<table class=\"simpletable\">\n",
       "<tr>\n",
       "  <th>Omnibus:</th>       <td> 6.144</td> <th>  Durbin-Watson:     </th> <td>   0.790</td>\n",
       "</tr>\n",
       "<tr>\n",
       "  <th>Prob(Omnibus):</th> <td> 0.046</td> <th>  Jarque-Bera (JB):  </th> <td>   3.067</td>\n",
       "</tr>\n",
       "<tr>\n",
       "  <th>Skew:</th>          <td>-1.356</td> <th>  Prob(JB):          </th> <td>   0.216</td>\n",
       "</tr>\n",
       "<tr>\n",
       "  <th>Kurtosis:</th>      <td> 3.095</td> <th>  Cond. No.          </th> <td>    1.00</td>\n",
       "</tr>\n",
       "</table><br/><br/>Warnings:<br/>[1] Standard Errors assume that the covariance matrix of the errors is correctly specified.<br/>[2] The smallest eigenvalue is 9.97e-22. This might indicate that there are<br/>strong multicollinearity problems or that the design matrix is singular."
      ],
      "text/plain": [
       "<class 'statsmodels.iolib.summary.Summary'>\n",
       "\"\"\"\n",
       "                                 OLS Regression Results                                \n",
       "=======================================================================================\n",
       "Dep. Variable:                      y   R-squared (uncentered):                   0.319\n",
       "Model:                            OLS   Adj. R-squared (uncentered):              0.243\n",
       "Method:                 Least Squares   F-statistic:                              4.218\n",
       "Date:                Mon, 26 Oct 2020   Prob (F-statistic):                      0.0702\n",
       "Time:                        23:08:45   Log-Likelihood:                          50.859\n",
       "No. Observations:                  10   AIC:                                     -99.72\n",
       "Df Residuals:                       9   BIC:                                     -99.41\n",
       "Df Model:                           1                                                  \n",
       "Covariance Type:            nonrobust                                                  \n",
       "==============================================================================\n",
       "                 coef    std err          t      P>|t|      [0.025      0.975]\n",
       "------------------------------------------------------------------------------\n",
       "x1          1.026e+08   4.99e+07      2.054      0.070   -1.04e+07    2.16e+08\n",
       "==============================================================================\n",
       "Omnibus:                        6.144   Durbin-Watson:                   0.790\n",
       "Prob(Omnibus):                  0.046   Jarque-Bera (JB):                3.067\n",
       "Skew:                          -1.356   Prob(JB):                        0.216\n",
       "Kurtosis:                       3.095   Cond. No.                         1.00\n",
       "==============================================================================\n",
       "\n",
       "Warnings:\n",
       "[1] Standard Errors assume that the covariance matrix of the errors is correctly specified.\n",
       "[2] The smallest eigenvalue is 9.97e-22. This might indicate that there are\n",
       "strong multicollinearity problems or that the design matrix is singular.\n",
       "\"\"\""
      ]
     },
     "execution_count": 98,
     "metadata": {},
     "output_type": "execute_result"
    }
   ],
   "source": [
    "import statsmodels.api as sm\n",
    "\n",
    "\n",
    "# Primeiro parâmetro: Y\n",
    "# Segundo parâmetro: X1, ..., Xn (não esqueça os colchetes duplos)\n",
    "model = sm.OLS(volatilidade, centralidades)\n",
    "result = model.fit()\n",
    "result.summary()"
   ]
  },
  {
   "cell_type": "code",
   "execution_count": null,
   "metadata": {},
   "outputs": [],
   "source": []
  }
 ],
 "metadata": {
  "kernelspec": {
   "display_name": "Python 3",
   "language": "python",
   "name": "python3"
  },
  "language_info": {
   "codemirror_mode": {
    "name": "ipython",
    "version": 3
   },
   "file_extension": ".py",
   "mimetype": "text/x-python",
   "name": "python",
   "nbconvert_exporter": "python",
   "pygments_lexer": "ipython3",
   "version": "3.7.4"
  }
 },
 "nbformat": 4,
 "nbformat_minor": 2
}
